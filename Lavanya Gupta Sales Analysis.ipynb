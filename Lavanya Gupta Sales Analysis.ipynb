{
 "cells": [
  {
   "cell_type": "code",
   "execution_count": 1,
   "id": "cecffdf6-fd47-441a-88cf-7d347a45989e",
   "metadata": {},
   "outputs": [],
   "source": [
    "import pandas as pd\n",
    "import numpy as np\n",
    "import matplotlib.pyplot as plt\n",
    "import seaborn as sns"
   ]
  },
  {
   "cell_type": "code",
   "execution_count": 5,
   "id": "64003456-3a98-4abd-b54a-fb48443522d7",
   "metadata": {},
   "outputs": [],
   "source": [
    "df = pd.read_csv(\"AusApparalSales4thQrt2020.csv\")"
   ]
  },
  {
   "cell_type": "code",
   "execution_count": 7,
   "id": "9e4d1a6e-58ce-4629-9142-0f7eb239a256",
   "metadata": {},
   "outputs": [
    {
     "data": {
      "text/html": [
       "<div>\n",
       "<style scoped>\n",
       "    .dataframe tbody tr th:only-of-type {\n",
       "        vertical-align: middle;\n",
       "    }\n",
       "\n",
       "    .dataframe tbody tr th {\n",
       "        vertical-align: top;\n",
       "    }\n",
       "\n",
       "    .dataframe thead th {\n",
       "        text-align: right;\n",
       "    }\n",
       "</style>\n",
       "<table border=\"1\" class=\"dataframe\">\n",
       "  <thead>\n",
       "    <tr style=\"text-align: right;\">\n",
       "      <th></th>\n",
       "      <th>Date</th>\n",
       "      <th>Time</th>\n",
       "      <th>State</th>\n",
       "      <th>Group</th>\n",
       "      <th>Unit</th>\n",
       "      <th>Sales</th>\n",
       "    </tr>\n",
       "  </thead>\n",
       "  <tbody>\n",
       "    <tr>\n",
       "      <th>0</th>\n",
       "      <td>1-Oct-2020</td>\n",
       "      <td>Morning</td>\n",
       "      <td>WA</td>\n",
       "      <td>Kids</td>\n",
       "      <td>8</td>\n",
       "      <td>20000</td>\n",
       "    </tr>\n",
       "    <tr>\n",
       "      <th>1</th>\n",
       "      <td>1-Oct-2020</td>\n",
       "      <td>Morning</td>\n",
       "      <td>WA</td>\n",
       "      <td>Men</td>\n",
       "      <td>8</td>\n",
       "      <td>20000</td>\n",
       "    </tr>\n",
       "    <tr>\n",
       "      <th>2</th>\n",
       "      <td>1-Oct-2020</td>\n",
       "      <td>Morning</td>\n",
       "      <td>WA</td>\n",
       "      <td>Women</td>\n",
       "      <td>4</td>\n",
       "      <td>10000</td>\n",
       "    </tr>\n",
       "    <tr>\n",
       "      <th>3</th>\n",
       "      <td>1-Oct-2020</td>\n",
       "      <td>Morning</td>\n",
       "      <td>WA</td>\n",
       "      <td>Seniors</td>\n",
       "      <td>15</td>\n",
       "      <td>37500</td>\n",
       "    </tr>\n",
       "    <tr>\n",
       "      <th>4</th>\n",
       "      <td>1-Oct-2020</td>\n",
       "      <td>Afternoon</td>\n",
       "      <td>WA</td>\n",
       "      <td>Kids</td>\n",
       "      <td>3</td>\n",
       "      <td>7500</td>\n",
       "    </tr>\n",
       "  </tbody>\n",
       "</table>\n",
       "</div>"
      ],
      "text/plain": [
       "         Date        Time State     Group  Unit  Sales\n",
       "0  1-Oct-2020     Morning    WA      Kids     8  20000\n",
       "1  1-Oct-2020     Morning    WA       Men     8  20000\n",
       "2  1-Oct-2020     Morning    WA     Women     4  10000\n",
       "3  1-Oct-2020     Morning    WA   Seniors    15  37500\n",
       "4  1-Oct-2020   Afternoon    WA      Kids     3   7500"
      ]
     },
     "execution_count": 7,
     "metadata": {},
     "output_type": "execute_result"
    }
   ],
   "source": [
    "df.head()"
   ]
  },
  {
   "cell_type": "markdown",
   "id": "4a0407ed-e3d7-4342-a1bb-b473887952a2",
   "metadata": {},
   "source": [
    "# 1. Data wrangling "
   ]
  },
  {
   "cell_type": "markdown",
   "id": "f5000d41-373b-4dc8-a207-3ee35124f9f5",
   "metadata": {},
   "source": [
    "#### Ensure that the data is clean and free from any missing or incorrect entries"
   ]
  },
  {
   "cell_type": "code",
   "execution_count": 13,
   "id": "36e541c4-1a15-4866-9cfd-2f185d99fad6",
   "metadata": {},
   "outputs": [],
   "source": [
    "na_values = df.isna().sum()"
   ]
  },
  {
   "cell_type": "code",
   "execution_count": 15,
   "id": "3d03ec79-3f1d-41d0-ae75-8c934480cba4",
   "metadata": {},
   "outputs": [
    {
     "data": {
      "text/plain": [
       "Date     0\n",
       "Time     0\n",
       "State    0\n",
       "Group    0\n",
       "Unit     0\n",
       "Sales    0\n",
       "dtype: int64"
      ]
     },
     "execution_count": 15,
     "metadata": {},
     "output_type": "execute_result"
    }
   ],
   "source": [
    "na_values"
   ]
  },
  {
   "cell_type": "markdown",
   "id": "4873c1d0-7ff0-4d00-a72c-3dda60908a18",
   "metadata": {},
   "source": [
    "#### Choose a suitable data wrangling technique—either data standardization or normalization."
   ]
  },
  {
   "cell_type": "code",
   "execution_count": 20,
   "id": "b77ad487-e115-4edb-91b1-5a9ca0fac1eb",
   "metadata": {},
   "outputs": [
    {
     "data": {
      "text/html": [
       "<div>\n",
       "<style scoped>\n",
       "    .dataframe tbody tr th:only-of-type {\n",
       "        vertical-align: middle;\n",
       "    }\n",
       "\n",
       "    .dataframe tbody tr th {\n",
       "        vertical-align: top;\n",
       "    }\n",
       "\n",
       "    .dataframe thead th {\n",
       "        text-align: right;\n",
       "    }\n",
       "</style>\n",
       "<table border=\"1\" class=\"dataframe\">\n",
       "  <thead>\n",
       "    <tr style=\"text-align: right;\">\n",
       "      <th></th>\n",
       "      <th>Unit</th>\n",
       "      <th>Sales</th>\n",
       "    </tr>\n",
       "  </thead>\n",
       "  <tbody>\n",
       "    <tr>\n",
       "      <th>count</th>\n",
       "      <td>7560.000000</td>\n",
       "      <td>7560.000000</td>\n",
       "    </tr>\n",
       "    <tr>\n",
       "      <th>mean</th>\n",
       "      <td>18.005423</td>\n",
       "      <td>45013.558201</td>\n",
       "    </tr>\n",
       "    <tr>\n",
       "      <th>std</th>\n",
       "      <td>12.901403</td>\n",
       "      <td>32253.506944</td>\n",
       "    </tr>\n",
       "    <tr>\n",
       "      <th>min</th>\n",
       "      <td>2.000000</td>\n",
       "      <td>5000.000000</td>\n",
       "    </tr>\n",
       "    <tr>\n",
       "      <th>25%</th>\n",
       "      <td>8.000000</td>\n",
       "      <td>20000.000000</td>\n",
       "    </tr>\n",
       "    <tr>\n",
       "      <th>50%</th>\n",
       "      <td>14.000000</td>\n",
       "      <td>35000.000000</td>\n",
       "    </tr>\n",
       "    <tr>\n",
       "      <th>75%</th>\n",
       "      <td>26.000000</td>\n",
       "      <td>65000.000000</td>\n",
       "    </tr>\n",
       "    <tr>\n",
       "      <th>max</th>\n",
       "      <td>65.000000</td>\n",
       "      <td>162500.000000</td>\n",
       "    </tr>\n",
       "  </tbody>\n",
       "</table>\n",
       "</div>"
      ],
      "text/plain": [
       "              Unit          Sales\n",
       "count  7560.000000    7560.000000\n",
       "mean     18.005423   45013.558201\n",
       "std      12.901403   32253.506944\n",
       "min       2.000000    5000.000000\n",
       "25%       8.000000   20000.000000\n",
       "50%      14.000000   35000.000000\n",
       "75%      26.000000   65000.000000\n",
       "max      65.000000  162500.000000"
      ]
     },
     "execution_count": 20,
     "metadata": {},
     "output_type": "execute_result"
    }
   ],
   "source": [
    "df.describe()"
   ]
  },
  {
   "cell_type": "code",
   "execution_count": 22,
   "id": "21008638-eff4-422b-950c-52da27db7f70",
   "metadata": {},
   "outputs": [
    {
     "data": {
      "image/png": "[encoded data removed]",
      "text/plain": [
       "<Figure size 640x480 with 1 Axes>"
      ]
     },
     "metadata": {},
     "output_type": "display_data"
    }
   ],
   "source": [
    "df[['Unit','Sales']].plot.kde()\n",
    "plt.show()"
   ]
  },
  {
   "cell_type": "code",
   "execution_count": 26,
   "id": "2341e17c-e225-4718-b91c-f6f32a266e37",
   "metadata": {},
   "outputs": [],
   "source": [
    "from sklearn.preprocessing import StandardScaler"
   ]
  },
  {
   "cell_type": "code",
   "execution_count": 28,
   "id": "c00093a3-15f2-46d4-a4ed-1c699fcc4f04",
   "metadata": {},
   "outputs": [],
   "source": [
    "ss = StandardScaler()"
   ]
  },
  {
   "cell_type": "code",
   "execution_count": 30,
   "id": "8babe0e8-6df6-4e54-b064-f9dca55a8079",
   "metadata": {},
   "outputs": [],
   "source": [
    "newdf=df[['Unit','Sales']]"
   ]
  },
  {
   "cell_type": "code",
   "execution_count": 32,
   "id": "feec11be-7aee-4d07-8f6e-76a07e6ae552",
   "metadata": {},
   "outputs": [],
   "source": [
    "data_transformed = ss.fit_transform(newdf)"
   ]
  },
  {
   "cell_type": "code",
   "execution_count": 34,
   "id": "dfebf34f-4e48-4fd2-8860-5d4001e3e072",
   "metadata": {},
   "outputs": [
    {
     "data": {
      "text/plain": [
       "numpy.ndarray"
      ]
     },
     "execution_count": 34,
     "metadata": {},
     "output_type": "execute_result"
    }
   ],
   "source": [
    "type(data_transformed)"
   ]
  },
  {
   "cell_type": "code",
   "execution_count": 36,
   "id": "b383fcbd-d04b-4a25-b4e8-c17d8a3fe2c2",
   "metadata": {},
   "outputs": [],
   "source": [
    "newdf = pd.DataFrame(data_transformed,columns = ['Unit','Sales'])"
   ]
  },
  {
   "cell_type": "code",
   "execution_count": 38,
   "id": "560ee367-aa6c-4927-9e44-e86e64754bcd",
   "metadata": {},
   "outputs": [
    {
     "data": {
      "text/html": [
       "<div>\n",
       "<style scoped>\n",
       "    .dataframe tbody tr th:only-of-type {\n",
       "        vertical-align: middle;\n",
       "    }\n",
       "\n",
       "    .dataframe tbody tr th {\n",
       "        vertical-align: top;\n",
       "    }\n",
       "\n",
       "    .dataframe thead th {\n",
       "        text-align: right;\n",
       "    }\n",
       "</style>\n",
       "<table border=\"1\" class=\"dataframe\">\n",
       "  <thead>\n",
       "    <tr style=\"text-align: right;\">\n",
       "      <th></th>\n",
       "      <th>Unit</th>\n",
       "      <th>Sales</th>\n",
       "    </tr>\n",
       "  </thead>\n",
       "  <tbody>\n",
       "    <tr>\n",
       "      <th>0</th>\n",
       "      <td>-0.775581</td>\n",
       "      <td>-0.775581</td>\n",
       "    </tr>\n",
       "    <tr>\n",
       "      <th>1</th>\n",
       "      <td>-0.775581</td>\n",
       "      <td>-0.775581</td>\n",
       "    </tr>\n",
       "    <tr>\n",
       "      <th>2</th>\n",
       "      <td>-1.085645</td>\n",
       "      <td>-1.085645</td>\n",
       "    </tr>\n",
       "    <tr>\n",
       "      <th>3</th>\n",
       "      <td>-0.232969</td>\n",
       "      <td>-0.232969</td>\n",
       "    </tr>\n",
       "    <tr>\n",
       "      <th>4</th>\n",
       "      <td>-1.163162</td>\n",
       "      <td>-1.163162</td>\n",
       "    </tr>\n",
       "    <tr>\n",
       "      <th>...</th>\n",
       "      <td>...</td>\n",
       "      <td>...</td>\n",
       "    </tr>\n",
       "    <tr>\n",
       "      <th>7555</th>\n",
       "      <td>-0.310485</td>\n",
       "      <td>-0.310485</td>\n",
       "    </tr>\n",
       "    <tr>\n",
       "      <th>7556</th>\n",
       "      <td>-0.232969</td>\n",
       "      <td>-0.232969</td>\n",
       "    </tr>\n",
       "    <tr>\n",
       "      <th>7557</th>\n",
       "      <td>-0.232969</td>\n",
       "      <td>-0.232969</td>\n",
       "    </tr>\n",
       "    <tr>\n",
       "      <th>7558</th>\n",
       "      <td>-0.543033</td>\n",
       "      <td>-0.543033</td>\n",
       "    </tr>\n",
       "    <tr>\n",
       "      <th>7559</th>\n",
       "      <td>-0.388001</td>\n",
       "      <td>-0.388001</td>\n",
       "    </tr>\n",
       "  </tbody>\n",
       "</table>\n",
       "<p>7560 rows × 2 columns</p>\n",
       "</div>"
      ],
      "text/plain": [
       "          Unit     Sales\n",
       "0    -0.775581 -0.775581\n",
       "1    -0.775581 -0.775581\n",
       "2    -1.085645 -1.085645\n",
       "3    -0.232969 -0.232969\n",
       "4    -1.163162 -1.163162\n",
       "...        ...       ...\n",
       "7555 -0.310485 -0.310485\n",
       "7556 -0.232969 -0.232969\n",
       "7557 -0.232969 -0.232969\n",
       "7558 -0.543033 -0.543033\n",
       "7559 -0.388001 -0.388001\n",
       "\n",
       "[7560 rows x 2 columns]"
      ]
     },
     "execution_count": 38,
     "metadata": {},
     "output_type": "execute_result"
    }
   ],
   "source": [
    "newdf"
   ]
  },
  {
   "cell_type": "code",
   "execution_count": 40,
   "id": "ecc1cba0-12e3-4aeb-94dd-9b85df214889",
   "metadata": {},
   "outputs": [
    {
     "data": {
      "text/plain": [
       "<Axes: ylabel='Density'>"
      ]
     },
     "execution_count": 40,
     "metadata": {},
     "output_type": "execute_result"
    },
    {
     "data": {
      "image/png": "[encoded data removed]",
      "text/plain": [
       "<Figure size 640x480 with 1 Axes>"
      ]
     },
     "metadata": {},
     "output_type": "display_data"
    }
   ],
   "source": [
    "newdf.plot.kde()"
   ]
  },
  {
   "cell_type": "code",
   "execution_count": 42,
   "id": "c9ba8cd8-7df4-4cf5-83e5-9836366598c9",
   "metadata": {},
   "outputs": [
    {
     "name": "stderr",
     "output_type": "stream",
     "text": [
      "C:\\Users\\lavan\\anaconda3\\Lib\\site-packages\\seaborn\\_oldcore.py:1119: FutureWarning: use_inf_as_na option is deprecated and will be removed in a future version. Convert inf values to NaN before operating instead.\n",
      "  with pd.option_context('mode.use_inf_as_na', True):\n"
     ]
    },
    {
     "data": {
      "text/plain": [
       "<Axes: ylabel='Count'>"
      ]
     },
     "execution_count": 42,
     "metadata": {},
     "output_type": "execute_result"
    },
    {
     "data": {
      "image/png": "[encoded data removed]",
      "text/plain": [
       "<Figure size 640x480 with 1 Axes>"
      ]
     },
     "metadata": {},
     "output_type": "display_data"
    }
   ],
   "source": [
    "sns.histplot(data=newdf)"
   ]
  },
  {
   "cell_type": "code",
   "execution_count": 44,
   "id": "353412cf-f230-4007-bdd8-74f43de330d0",
   "metadata": {},
   "outputs": [],
   "source": [
    "from sklearn.preprocessing import MinMaxScaler"
   ]
  },
  {
   "cell_type": "code",
   "execution_count": 46,
   "id": "318515c8-9dce-44fb-a3d6-cd5bb48be69b",
   "metadata": {},
   "outputs": [],
   "source": [
    "mm =MinMaxScaler()"
   ]
  },
  {
   "cell_type": "code",
   "execution_count": 48,
   "id": "9a12eead-df7c-43fe-a4c9-3cd38be8b4d0",
   "metadata": {},
   "outputs": [],
   "source": [
    "normdf = mm.fit_transform(newdf)"
   ]
  },
  {
   "cell_type": "code",
   "execution_count": 50,
   "id": "b2832441-2d65-46da-8e5f-5494925b9c20",
   "metadata": {},
   "outputs": [],
   "source": [
    "testdf = pd.DataFrame(normdf,columns=newdf.columns)"
   ]
  },
  {
   "cell_type": "code",
   "execution_count": 52,
   "id": "ab2f9469-098b-4b49-9bab-2bb45d01be65",
   "metadata": {},
   "outputs": [
    {
     "data": {
      "text/html": [
       "<div>\n",
       "<style scoped>\n",
       "    .dataframe tbody tr th:only-of-type {\n",
       "        vertical-align: middle;\n",
       "    }\n",
       "\n",
       "    .dataframe tbody tr th {\n",
       "        vertical-align: top;\n",
       "    }\n",
       "\n",
       "    .dataframe thead th {\n",
       "        text-align: right;\n",
       "    }\n",
       "</style>\n",
       "<table border=\"1\" class=\"dataframe\">\n",
       "  <thead>\n",
       "    <tr style=\"text-align: right;\">\n",
       "      <th></th>\n",
       "      <th>Unit</th>\n",
       "      <th>Sales</th>\n",
       "    </tr>\n",
       "  </thead>\n",
       "  <tbody>\n",
       "    <tr>\n",
       "      <th>0</th>\n",
       "      <td>0.095238</td>\n",
       "      <td>0.095238</td>\n",
       "    </tr>\n",
       "    <tr>\n",
       "      <th>1</th>\n",
       "      <td>0.095238</td>\n",
       "      <td>0.095238</td>\n",
       "    </tr>\n",
       "    <tr>\n",
       "      <th>2</th>\n",
       "      <td>0.031746</td>\n",
       "      <td>0.031746</td>\n",
       "    </tr>\n",
       "    <tr>\n",
       "      <th>3</th>\n",
       "      <td>0.206349</td>\n",
       "      <td>0.206349</td>\n",
       "    </tr>\n",
       "    <tr>\n",
       "      <th>4</th>\n",
       "      <td>0.015873</td>\n",
       "      <td>0.015873</td>\n",
       "    </tr>\n",
       "    <tr>\n",
       "      <th>...</th>\n",
       "      <td>...</td>\n",
       "      <td>...</td>\n",
       "    </tr>\n",
       "    <tr>\n",
       "      <th>7555</th>\n",
       "      <td>0.190476</td>\n",
       "      <td>0.190476</td>\n",
       "    </tr>\n",
       "    <tr>\n",
       "      <th>7556</th>\n",
       "      <td>0.206349</td>\n",
       "      <td>0.206349</td>\n",
       "    </tr>\n",
       "    <tr>\n",
       "      <th>7557</th>\n",
       "      <td>0.206349</td>\n",
       "      <td>0.206349</td>\n",
       "    </tr>\n",
       "    <tr>\n",
       "      <th>7558</th>\n",
       "      <td>0.142857</td>\n",
       "      <td>0.142857</td>\n",
       "    </tr>\n",
       "    <tr>\n",
       "      <th>7559</th>\n",
       "      <td>0.174603</td>\n",
       "      <td>0.174603</td>\n",
       "    </tr>\n",
       "  </tbody>\n",
       "</table>\n",
       "<p>7560 rows × 2 columns</p>\n",
       "</div>"
      ],
      "text/plain": [
       "          Unit     Sales\n",
       "0     0.095238  0.095238\n",
       "1     0.095238  0.095238\n",
       "2     0.031746  0.031746\n",
       "3     0.206349  0.206349\n",
       "4     0.015873  0.015873\n",
       "...        ...       ...\n",
       "7555  0.190476  0.190476\n",
       "7556  0.206349  0.206349\n",
       "7557  0.206349  0.206349\n",
       "7558  0.142857  0.142857\n",
       "7559  0.174603  0.174603\n",
       "\n",
       "[7560 rows x 2 columns]"
      ]
     },
     "execution_count": 52,
     "metadata": {},
     "output_type": "execute_result"
    }
   ],
   "source": [
    "testdf"
   ]
  },
  {
   "cell_type": "code",
   "execution_count": 54,
   "id": "bb6c7f14-a9e2-439a-b83d-c8fb9817cbc4",
   "metadata": {},
   "outputs": [
    {
     "data": {
      "text/plain": [
       "<Axes: ylabel='Density'>"
      ]
     },
     "execution_count": 54,
     "metadata": {},
     "output_type": "execute_result"
    },
    {
     "data": {
      "image/png": "[encoded data removed]",
      "text/plain": [
       "<Figure size 640x480 with 1 Axes>"
      ]
     },
     "metadata": {},
     "output_type": "display_data"
    }
   ],
   "source": [
    "testdf.plot.kde()"
   ]
  },
  {
   "cell_type": "markdown",
   "id": "48b7112a-ef69-4ef5-a64f-bf0bf018663e",
   "metadata": {},
   "source": [
    "### Use of the groupby() function "
   ]
  },
  {
   "cell_type": "code",
   "execution_count": 59,
   "id": "d6dadd2d-dbc3-4811-9dc4-b85961ac0089",
   "metadata": {},
   "outputs": [
    {
     "data": {
      "text/html": [
       "<div>\n",
       "<style scoped>\n",
       "    .dataframe tbody tr th:only-of-type {\n",
       "        vertical-align: middle;\n",
       "    }\n",
       "\n",
       "    .dataframe tbody tr th {\n",
       "        vertical-align: top;\n",
       "    }\n",
       "\n",
       "    .dataframe thead th {\n",
       "        text-align: right;\n",
       "    }\n",
       "</style>\n",
       "<table border=\"1\" class=\"dataframe\">\n",
       "  <thead>\n",
       "    <tr style=\"text-align: right;\">\n",
       "      <th></th>\n",
       "      <th>Date</th>\n",
       "      <th>Time</th>\n",
       "      <th>State</th>\n",
       "      <th>Group</th>\n",
       "      <th>Unit</th>\n",
       "      <th>Sales</th>\n",
       "    </tr>\n",
       "  </thead>\n",
       "  <tbody>\n",
       "    <tr>\n",
       "      <th>0</th>\n",
       "      <td>1-Oct-2020</td>\n",
       "      <td>Morning</td>\n",
       "      <td>WA</td>\n",
       "      <td>Kids</td>\n",
       "      <td>8</td>\n",
       "      <td>20000</td>\n",
       "    </tr>\n",
       "    <tr>\n",
       "      <th>1</th>\n",
       "      <td>1-Oct-2020</td>\n",
       "      <td>Morning</td>\n",
       "      <td>WA</td>\n",
       "      <td>Men</td>\n",
       "      <td>8</td>\n",
       "      <td>20000</td>\n",
       "    </tr>\n",
       "    <tr>\n",
       "      <th>2</th>\n",
       "      <td>1-Oct-2020</td>\n",
       "      <td>Morning</td>\n",
       "      <td>WA</td>\n",
       "      <td>Women</td>\n",
       "      <td>4</td>\n",
       "      <td>10000</td>\n",
       "    </tr>\n",
       "    <tr>\n",
       "      <th>3</th>\n",
       "      <td>1-Oct-2020</td>\n",
       "      <td>Morning</td>\n",
       "      <td>WA</td>\n",
       "      <td>Seniors</td>\n",
       "      <td>15</td>\n",
       "      <td>37500</td>\n",
       "    </tr>\n",
       "    <tr>\n",
       "      <th>4</th>\n",
       "      <td>1-Oct-2020</td>\n",
       "      <td>Afternoon</td>\n",
       "      <td>WA</td>\n",
       "      <td>Kids</td>\n",
       "      <td>3</td>\n",
       "      <td>7500</td>\n",
       "    </tr>\n",
       "    <tr>\n",
       "      <th>...</th>\n",
       "      <td>...</td>\n",
       "      <td>...</td>\n",
       "      <td>...</td>\n",
       "      <td>...</td>\n",
       "      <td>...</td>\n",
       "      <td>...</td>\n",
       "    </tr>\n",
       "    <tr>\n",
       "      <th>7555</th>\n",
       "      <td>30-Dec-2020</td>\n",
       "      <td>Afternoon</td>\n",
       "      <td>TAS</td>\n",
       "      <td>Seniors</td>\n",
       "      <td>14</td>\n",
       "      <td>35000</td>\n",
       "    </tr>\n",
       "    <tr>\n",
       "      <th>7556</th>\n",
       "      <td>30-Dec-2020</td>\n",
       "      <td>Evening</td>\n",
       "      <td>TAS</td>\n",
       "      <td>Kids</td>\n",
       "      <td>15</td>\n",
       "      <td>37500</td>\n",
       "    </tr>\n",
       "    <tr>\n",
       "      <th>7557</th>\n",
       "      <td>30-Dec-2020</td>\n",
       "      <td>Evening</td>\n",
       "      <td>TAS</td>\n",
       "      <td>Men</td>\n",
       "      <td>15</td>\n",
       "      <td>37500</td>\n",
       "    </tr>\n",
       "    <tr>\n",
       "      <th>7558</th>\n",
       "      <td>30-Dec-2020</td>\n",
       "      <td>Evening</td>\n",
       "      <td>TAS</td>\n",
       "      <td>Women</td>\n",
       "      <td>11</td>\n",
       "      <td>27500</td>\n",
       "    </tr>\n",
       "    <tr>\n",
       "      <th>7559</th>\n",
       "      <td>30-Dec-2020</td>\n",
       "      <td>Evening</td>\n",
       "      <td>TAS</td>\n",
       "      <td>Seniors</td>\n",
       "      <td>13</td>\n",
       "      <td>32500</td>\n",
       "    </tr>\n",
       "  </tbody>\n",
       "</table>\n",
       "<p>7560 rows × 6 columns</p>\n",
       "</div>"
      ],
      "text/plain": [
       "             Date        Time State     Group  Unit  Sales\n",
       "0      1-Oct-2020     Morning    WA      Kids     8  20000\n",
       "1      1-Oct-2020     Morning    WA       Men     8  20000\n",
       "2      1-Oct-2020     Morning    WA     Women     4  10000\n",
       "3      1-Oct-2020     Morning    WA   Seniors    15  37500\n",
       "4      1-Oct-2020   Afternoon    WA      Kids     3   7500\n",
       "...           ...         ...   ...       ...   ...    ...\n",
       "7555  30-Dec-2020   Afternoon   TAS   Seniors    14  35000\n",
       "7556  30-Dec-2020     Evening   TAS      Kids    15  37500\n",
       "7557  30-Dec-2020     Evening   TAS       Men    15  37500\n",
       "7558  30-Dec-2020     Evening   TAS     Women    11  27500\n",
       "7559  30-Dec-2020     Evening   TAS   Seniors    13  32500\n",
       "\n",
       "[7560 rows x 6 columns]"
      ]
     },
     "execution_count": 59,
     "metadata": {},
     "output_type": "execute_result"
    }
   ],
   "source": [
    "df"
   ]
  },
  {
   "cell_type": "code",
   "execution_count": 61,
   "id": "f24041ec-b37c-4f91-a546-2ad9b1bcf90d",
   "metadata": {},
   "outputs": [
    {
     "data": {
      "text/html": [
       "<div>\n",
       "<style scoped>\n",
       "    .dataframe tbody tr th:only-of-type {\n",
       "        vertical-align: middle;\n",
       "    }\n",
       "\n",
       "    .dataframe tbody tr th {\n",
       "        vertical-align: top;\n",
       "    }\n",
       "\n",
       "    .dataframe thead th {\n",
       "        text-align: right;\n",
       "    }\n",
       "</style>\n",
       "<table border=\"1\" class=\"dataframe\">\n",
       "  <thead>\n",
       "    <tr style=\"text-align: right;\">\n",
       "      <th></th>\n",
       "      <th></th>\n",
       "      <th>Date</th>\n",
       "      <th>Time</th>\n",
       "      <th>Unit</th>\n",
       "      <th>Sales</th>\n",
       "    </tr>\n",
       "    <tr>\n",
       "      <th>State</th>\n",
       "      <th>Group</th>\n",
       "      <th></th>\n",
       "      <th></th>\n",
       "      <th></th>\n",
       "      <th></th>\n",
       "    </tr>\n",
       "  </thead>\n",
       "  <tbody>\n",
       "    <tr>\n",
       "      <th rowspan=\"4\" valign=\"top\">NSW</th>\n",
       "      <th>Kids</th>\n",
       "      <td>1-Oct-20201-Oct-20201-Oct-20202-Oct-20202-Oct-...</td>\n",
       "      <td>Morning Afternoon Evening Morning Afternoon E...</td>\n",
       "      <td>7435</td>\n",
       "      <td>18587500</td>\n",
       "    </tr>\n",
       "    <tr>\n",
       "      <th>Men</th>\n",
       "      <td>1-Oct-20201-Oct-20201-Oct-20202-Oct-20202-Oct-...</td>\n",
       "      <td>Morning Afternoon Evening Morning Afternoon E...</td>\n",
       "      <td>7609</td>\n",
       "      <td>19022500</td>\n",
       "    </tr>\n",
       "    <tr>\n",
       "      <th>Seniors</th>\n",
       "      <td>1-Oct-20201-Oct-20201-Oct-20202-Oct-20202-Oct-...</td>\n",
       "      <td>Morning Afternoon Evening Morning Afternoon E...</td>\n",
       "      <td>7275</td>\n",
       "      <td>18187500</td>\n",
       "    </tr>\n",
       "    <tr>\n",
       "      <th>Women</th>\n",
       "      <td>1-Oct-20201-Oct-20201-Oct-20202-Oct-20202-Oct-...</td>\n",
       "      <td>Morning Afternoon Evening Morning Afternoon E...</td>\n",
       "      <td>7669</td>\n",
       "      <td>19172500</td>\n",
       "    </tr>\n",
       "    <tr>\n",
       "      <th rowspan=\"4\" valign=\"top\">NT</th>\n",
       "      <th>Kids</th>\n",
       "      <td>1-Oct-20201-Oct-20201-Oct-20202-Oct-20202-Oct-...</td>\n",
       "      <td>Morning Afternoon Evening Morning Afternoon E...</td>\n",
       "      <td>2280</td>\n",
       "      <td>5700000</td>\n",
       "    </tr>\n",
       "    <tr>\n",
       "      <th>Men</th>\n",
       "      <td>1-Oct-20201-Oct-20201-Oct-20202-Oct-20202-Oct-...</td>\n",
       "      <td>Morning Afternoon Evening Morning Afternoon E...</td>\n",
       "      <td>2305</td>\n",
       "      <td>5762500</td>\n",
       "    </tr>\n",
       "    <tr>\n",
       "      <th>Seniors</th>\n",
       "      <td>1-Oct-20201-Oct-20201-Oct-20202-Oct-20202-Oct-...</td>\n",
       "      <td>Morning Afternoon Evening Morning Afternoon E...</td>\n",
       "      <td>2186</td>\n",
       "      <td>5465000</td>\n",
       "    </tr>\n",
       "    <tr>\n",
       "      <th>Women</th>\n",
       "      <td>1-Oct-20201-Oct-20201-Oct-20202-Oct-20202-Oct-...</td>\n",
       "      <td>Morning Afternoon Evening Morning Afternoon E...</td>\n",
       "      <td>2261</td>\n",
       "      <td>5652500</td>\n",
       "    </tr>\n",
       "    <tr>\n",
       "      <th rowspan=\"4\" valign=\"top\">QLD</th>\n",
       "      <th>Kids</th>\n",
       "      <td>1-Oct-20201-Oct-20201-Oct-20202-Oct-20202-Oct-...</td>\n",
       "      <td>Morning Afternoon Evening Morning Afternoon E...</td>\n",
       "      <td>3404</td>\n",
       "      <td>8510000</td>\n",
       "    </tr>\n",
       "    <tr>\n",
       "      <th>Men</th>\n",
       "      <td>1-Oct-20201-Oct-20201-Oct-20202-Oct-20202-Oct-...</td>\n",
       "      <td>Morning Afternoon Evening Morning Afternoon E...</td>\n",
       "      <td>3357</td>\n",
       "      <td>8392500</td>\n",
       "    </tr>\n",
       "    <tr>\n",
       "      <th>Seniors</th>\n",
       "      <td>1-Oct-20201-Oct-20201-Oct-20202-Oct-20202-Oct-...</td>\n",
       "      <td>Morning Afternoon Evening Morning Afternoon E...</td>\n",
       "      <td>3276</td>\n",
       "      <td>8190000</td>\n",
       "    </tr>\n",
       "    <tr>\n",
       "      <th>Women</th>\n",
       "      <td>1-Oct-20201-Oct-20201-Oct-20202-Oct-20202-Oct-...</td>\n",
       "      <td>Morning Afternoon Evening Morning Afternoon E...</td>\n",
       "      <td>3330</td>\n",
       "      <td>8325000</td>\n",
       "    </tr>\n",
       "    <tr>\n",
       "      <th rowspan=\"4\" valign=\"top\">SA</th>\n",
       "      <th>Kids</th>\n",
       "      <td>1-Oct-20201-Oct-20201-Oct-20202-Oct-20202-Oct-...</td>\n",
       "      <td>Morning Afternoon Evening Morning Afternoon E...</td>\n",
       "      <td>5806</td>\n",
       "      <td>14515000</td>\n",
       "    </tr>\n",
       "    <tr>\n",
       "      <th>Men</th>\n",
       "      <td>1-Oct-20201-Oct-20201-Oct-20202-Oct-20202-Oct-...</td>\n",
       "      <td>Morning Afternoon Evening Morning Afternoon E...</td>\n",
       "      <td>5862</td>\n",
       "      <td>14655000</td>\n",
       "    </tr>\n",
       "    <tr>\n",
       "      <th>Seniors</th>\n",
       "      <td>1-Oct-20201-Oct-20201-Oct-20202-Oct-20202-Oct-...</td>\n",
       "      <td>Morning Afternoon Evening Morning Afternoon E...</td>\n",
       "      <td>5887</td>\n",
       "      <td>14717500</td>\n",
       "    </tr>\n",
       "    <tr>\n",
       "      <th>Women</th>\n",
       "      <td>1-Oct-20201-Oct-20201-Oct-20202-Oct-20202-Oct-...</td>\n",
       "      <td>Morning Afternoon Evening Morning Afternoon E...</td>\n",
       "      <td>5988</td>\n",
       "      <td>14970000</td>\n",
       "    </tr>\n",
       "    <tr>\n",
       "      <th rowspan=\"4\" valign=\"top\">TAS</th>\n",
       "      <th>Kids</th>\n",
       "      <td>1-Oct-20201-Oct-20201-Oct-20202-Oct-20202-Oct-...</td>\n",
       "      <td>Morning Afternoon Evening Morning Afternoon E...</td>\n",
       "      <td>2310</td>\n",
       "      <td>5775000</td>\n",
       "    </tr>\n",
       "    <tr>\n",
       "      <th>Men</th>\n",
       "      <td>1-Oct-20201-Oct-20201-Oct-20202-Oct-20202-Oct-...</td>\n",
       "      <td>Morning Afternoon Evening Morning Afternoon E...</td>\n",
       "      <td>2303</td>\n",
       "      <td>5757500</td>\n",
       "    </tr>\n",
       "    <tr>\n",
       "      <th>Seniors</th>\n",
       "      <td>1-Oct-20201-Oct-20201-Oct-20202-Oct-20202-Oct-...</td>\n",
       "      <td>Morning Afternoon Evening Morning Afternoon E...</td>\n",
       "      <td>2260</td>\n",
       "      <td>5650000</td>\n",
       "    </tr>\n",
       "    <tr>\n",
       "      <th>Women</th>\n",
       "      <td>1-Oct-20201-Oct-20201-Oct-20202-Oct-20202-Oct-...</td>\n",
       "      <td>Morning Afternoon Evening Morning Afternoon E...</td>\n",
       "      <td>2231</td>\n",
       "      <td>5577500</td>\n",
       "    </tr>\n",
       "    <tr>\n",
       "      <th rowspan=\"4\" valign=\"top\">VIC</th>\n",
       "      <th>Kids</th>\n",
       "      <td>1-Oct-20201-Oct-20201-Oct-20202-Oct-20202-Oct-...</td>\n",
       "      <td>Morning Afternoon Evening Morning Afternoon E...</td>\n",
       "      <td>10544</td>\n",
       "      <td>26360000</td>\n",
       "    </tr>\n",
       "    <tr>\n",
       "      <th>Men</th>\n",
       "      <td>1-Oct-20201-Oct-20201-Oct-20202-Oct-20202-Oct-...</td>\n",
       "      <td>Morning Afternoon Evening Morning Afternoon E...</td>\n",
       "      <td>10563</td>\n",
       "      <td>26407500</td>\n",
       "    </tr>\n",
       "    <tr>\n",
       "      <th>Seniors</th>\n",
       "      <td>1-Oct-20201-Oct-20201-Oct-20202-Oct-20202-Oct-...</td>\n",
       "      <td>Morning Afternoon Evening Morning Afternoon E...</td>\n",
       "      <td>10526</td>\n",
       "      <td>26315000</td>\n",
       "    </tr>\n",
       "    <tr>\n",
       "      <th>Women</th>\n",
       "      <td>1-Oct-20201-Oct-20201-Oct-20202-Oct-20202-Oct-...</td>\n",
       "      <td>Morning Afternoon Evening Morning Afternoon E...</td>\n",
       "      <td>10593</td>\n",
       "      <td>26482500</td>\n",
       "    </tr>\n",
       "    <tr>\n",
       "      <th rowspan=\"4\" valign=\"top\">WA</th>\n",
       "      <th>Kids</th>\n",
       "      <td>1-Oct-20201-Oct-20201-Oct-20202-Oct-20202-Oct-...</td>\n",
       "      <td>Morning Afternoon Evening Morning Afternoon E...</td>\n",
       "      <td>2250</td>\n",
       "      <td>5625000</td>\n",
       "    </tr>\n",
       "    <tr>\n",
       "      <th>Men</th>\n",
       "      <td>1-Oct-20201-Oct-20201-Oct-20202-Oct-20202-Oct-...</td>\n",
       "      <td>Morning Afternoon Evening Morning Afternoon E...</td>\n",
       "      <td>2301</td>\n",
       "      <td>5752500</td>\n",
       "    </tr>\n",
       "    <tr>\n",
       "      <th>Seniors</th>\n",
       "      <td>1-Oct-20201-Oct-20201-Oct-20202-Oct-20202-Oct-...</td>\n",
       "      <td>Morning Afternoon Evening Morning Afternoon E...</td>\n",
       "      <td>2205</td>\n",
       "      <td>5512500</td>\n",
       "    </tr>\n",
       "    <tr>\n",
       "      <th>Women</th>\n",
       "      <td>1-Oct-20201-Oct-20201-Oct-20202-Oct-20202-Oct-...</td>\n",
       "      <td>Morning Afternoon Evening Morning Afternoon E...</td>\n",
       "      <td>2105</td>\n",
       "      <td>5262500</td>\n",
       "    </tr>\n",
       "  </tbody>\n",
       "</table>\n",
       "</div>"
      ],
      "text/plain": [
       "                                                             Date  \\\n",
       "State Group                                                         \n",
       " NSW   Kids     1-Oct-20201-Oct-20201-Oct-20202-Oct-20202-Oct-...   \n",
       "       Men      1-Oct-20201-Oct-20201-Oct-20202-Oct-20202-Oct-...   \n",
       "       Seniors  1-Oct-20201-Oct-20201-Oct-20202-Oct-20202-Oct-...   \n",
       "       Women    1-Oct-20201-Oct-20201-Oct-20202-Oct-20202-Oct-...   \n",
       " NT    Kids     1-Oct-20201-Oct-20201-Oct-20202-Oct-20202-Oct-...   \n",
       "       Men      1-Oct-20201-Oct-20201-Oct-20202-Oct-20202-Oct-...   \n",
       "       Seniors  1-Oct-20201-Oct-20201-Oct-20202-Oct-20202-Oct-...   \n",
       "       Women    1-Oct-20201-Oct-20201-Oct-20202-Oct-20202-Oct-...   \n",
       " QLD   Kids     1-Oct-20201-Oct-20201-Oct-20202-Oct-20202-Oct-...   \n",
       "       Men      1-Oct-20201-Oct-20201-Oct-20202-Oct-20202-Oct-...   \n",
       "       Seniors  1-Oct-20201-Oct-20201-Oct-20202-Oct-20202-Oct-...   \n",
       "       Women    1-Oct-20201-Oct-20201-Oct-20202-Oct-20202-Oct-...   \n",
       " SA    Kids     1-Oct-20201-Oct-20201-Oct-20202-Oct-20202-Oct-...   \n",
       "       Men      1-Oct-20201-Oct-20201-Oct-20202-Oct-20202-Oct-...   \n",
       "       Seniors  1-Oct-20201-Oct-20201-Oct-20202-Oct-20202-Oct-...   \n",
       "       Women    1-Oct-20201-Oct-20201-Oct-20202-Oct-20202-Oct-...   \n",
       " TAS   Kids     1-Oct-20201-Oct-20201-Oct-20202-Oct-20202-Oct-...   \n",
       "       Men      1-Oct-20201-Oct-20201-Oct-20202-Oct-20202-Oct-...   \n",
       "       Seniors  1-Oct-20201-Oct-20201-Oct-20202-Oct-20202-Oct-...   \n",
       "       Women    1-Oct-20201-Oct-20201-Oct-20202-Oct-20202-Oct-...   \n",
       " VIC   Kids     1-Oct-20201-Oct-20201-Oct-20202-Oct-20202-Oct-...   \n",
       "       Men      1-Oct-20201-Oct-20201-Oct-20202-Oct-20202-Oct-...   \n",
       "       Seniors  1-Oct-20201-Oct-20201-Oct-20202-Oct-20202-Oct-...   \n",
       "       Women    1-Oct-20201-Oct-20201-Oct-20202-Oct-20202-Oct-...   \n",
       " WA    Kids     1-Oct-20201-Oct-20201-Oct-20202-Oct-20202-Oct-...   \n",
       "       Men      1-Oct-20201-Oct-20201-Oct-20202-Oct-20202-Oct-...   \n",
       "       Seniors  1-Oct-20201-Oct-20201-Oct-20202-Oct-20202-Oct-...   \n",
       "       Women    1-Oct-20201-Oct-20201-Oct-20202-Oct-20202-Oct-...   \n",
       "\n",
       "                                                             Time   Unit  \\\n",
       "State Group                                                                \n",
       " NSW   Kids      Morning Afternoon Evening Morning Afternoon E...   7435   \n",
       "       Men       Morning Afternoon Evening Morning Afternoon E...   7609   \n",
       "       Seniors   Morning Afternoon Evening Morning Afternoon E...   7275   \n",
       "       Women     Morning Afternoon Evening Morning Afternoon E...   7669   \n",
       " NT    Kids      Morning Afternoon Evening Morning Afternoon E...   2280   \n",
       "       Men       Morning Afternoon Evening Morning Afternoon E...   2305   \n",
       "       Seniors   Morning Afternoon Evening Morning Afternoon E...   2186   \n",
       "       Women     Morning Afternoon Evening Morning Afternoon E...   2261   \n",
       " QLD   Kids      Morning Afternoon Evening Morning Afternoon E...   3404   \n",
       "       Men       Morning Afternoon Evening Morning Afternoon E...   3357   \n",
       "       Seniors   Morning Afternoon Evening Morning Afternoon E...   3276   \n",
       "       Women     Morning Afternoon Evening Morning Afternoon E...   3330   \n",
       " SA    Kids      Morning Afternoon Evening Morning Afternoon E...   5806   \n",
       "       Men       Morning Afternoon Evening Morning Afternoon E...   5862   \n",
       "       Seniors   Morning Afternoon Evening Morning Afternoon E...   5887   \n",
       "       Women     Morning Afternoon Evening Morning Afternoon E...   5988   \n",
       " TAS   Kids      Morning Afternoon Evening Morning Afternoon E...   2310   \n",
       "       Men       Morning Afternoon Evening Morning Afternoon E...   2303   \n",
       "       Seniors   Morning Afternoon Evening Morning Afternoon E...   2260   \n",
       "       Women     Morning Afternoon Evening Morning Afternoon E...   2231   \n",
       " VIC   Kids      Morning Afternoon Evening Morning Afternoon E...  10544   \n",
       "       Men       Morning Afternoon Evening Morning Afternoon E...  10563   \n",
       "       Seniors   Morning Afternoon Evening Morning Afternoon E...  10526   \n",
       "       Women     Morning Afternoon Evening Morning Afternoon E...  10593   \n",
       " WA    Kids      Morning Afternoon Evening Morning Afternoon E...   2250   \n",
       "       Men       Morning Afternoon Evening Morning Afternoon E...   2301   \n",
       "       Seniors   Morning Afternoon Evening Morning Afternoon E...   2205   \n",
       "       Women     Morning Afternoon Evening Morning Afternoon E...   2105   \n",
       "\n",
       "                   Sales  \n",
       "State Group               \n",
       " NSW   Kids     18587500  \n",
       "       Men      19022500  \n",
       "       Seniors  18187500  \n",
       "       Women    19172500  \n",
       " NT    Kids      5700000  \n",
       "       Men       5762500  \n",
       "       Seniors   5465000  \n",
       "       Women     5652500  \n",
       " QLD   Kids      8510000  \n",
       "       Men       8392500  \n",
       "       Seniors   8190000  \n",
       "       Women     8325000  \n",
       " SA    Kids     14515000  \n",
       "       Men      14655000  \n",
       "       Seniors  14717500  \n",
       "       Women    14970000  \n",
       " TAS   Kids      5775000  \n",
       "       Men       5757500  \n",
       "       Seniors   5650000  \n",
       "       Women     5577500  \n",
       " VIC   Kids     26360000  \n",
       "       Men      26407500  \n",
       "       Seniors  26315000  \n",
       "       Women    26482500  \n",
       " WA    Kids      5625000  \n",
       "       Men       5752500  \n",
       "       Seniors   5512500  \n",
       "       Women     5262500  "
      ]
     },
     "execution_count": 61,
     "metadata": {},
     "output_type": "execute_result"
    }
   ],
   "source": [
    "grouped = df.groupby(['State', 'Group']).sum()\n",
    "grouped"
   ]
  },
  {
   "cell_type": "code",
   "execution_count": 66,
   "id": "021cac98-7ce9-4092-bcda-2c40458481f4",
   "metadata": {},
   "outputs": [
    {
     "data": {
      "image/png": "[encoded data removed]",
      "text/plain": [
       "<Figure size 800x400 with 1 Axes>"
      ]
     },
     "metadata": {},
     "output_type": "display_data"
    },
    {
     "data": {
      "image/png": "[encoded data removed]",
      "text/plain": [
       "<Figure size 800x400 with 1 Axes>"
      ]
     },
     "metadata": {},
     "output_type": "display_data"
    },
    {
     "data": {
      "image/png": "[encoded data removed]",
      "text/plain": [
       "<Figure size 800x400 with 1 Axes>"
      ]
     },
     "metadata": {},
     "output_type": "display_data"
    },
    {
     "data": {
      "image/png": "[encoded data removed]",
      "text/plain": [
       "<Figure size 800x400 with 1 Axes>"
      ]
     },
     "metadata": {},
     "output_type": "display_data"
    }
   ],
   "source": [
    "values = ['Group','Time','Unit','State']\n",
    "for col in values:\n",
    "    group = df.groupby(col)[\"Sales\"].mean().sort_values()\n",
    "    plt.figure(figsize=(8, 4))\n",
    "    sns.barplot(x= group.index, y= group.values, palette='tab10')\n",
    "    plt.xticks(rotation=45)\n",
    "    plt.title(f'Average Sales Per {col.capitalize()}')\n",
    "    plt.xlabel(col.capitalize())\n",
    "    plt.ylabel('Average sales')\n",
    "    plt.show()\n"
   ]
  },
  {
   "cell_type": "markdown",
   "id": "76163a4a-3405-484c-9086-7c0f3128feae",
   "metadata": {},
   "source": [
    "##### From here using groupby function we can clearly see that WA NT TAS states have a high potential where we can increase our sales"
   ]
  },
  {
   "cell_type": "markdown",
   "id": "d9981cd6-7b5a-4d01-9cfa-52828ed678ad",
   "metadata": {},
   "source": [
    "# 2. Data analysis "
   ]
  },
  {
   "cell_type": "markdown",
   "id": "1311e8f0-b2d6-4197-997e-f65f9492a323",
   "metadata": {},
   "source": [
    "#### Perform descriptive statistical analysis on the data in the Sales and Unit columns. Utilize techniques such as mean, median, mode, and standard deviation for this analysis. "
   ]
  },
  {
   "cell_type": "code",
   "execution_count": 70,
   "id": "3445bd1f-4f39-4b07-88f4-312cf81b8849",
   "metadata": {},
   "outputs": [
    {
     "data": {
      "text/html": [
       "<div>\n",
       "<style scoped>\n",
       "    .dataframe tbody tr th:only-of-type {\n",
       "        vertical-align: middle;\n",
       "    }\n",
       "\n",
       "    .dataframe tbody tr th {\n",
       "        vertical-align: top;\n",
       "    }\n",
       "\n",
       "    .dataframe thead th {\n",
       "        text-align: right;\n",
       "    }\n",
       "</style>\n",
       "<table border=\"1\" class=\"dataframe\">\n",
       "  <thead>\n",
       "    <tr style=\"text-align: right;\">\n",
       "      <th></th>\n",
       "      <th>Unit</th>\n",
       "      <th>Sales</th>\n",
       "    </tr>\n",
       "  </thead>\n",
       "  <tbody>\n",
       "    <tr>\n",
       "      <th>count</th>\n",
       "      <td>7560.000000</td>\n",
       "      <td>7560.000000</td>\n",
       "    </tr>\n",
       "    <tr>\n",
       "      <th>mean</th>\n",
       "      <td>18.005423</td>\n",
       "      <td>45013.558201</td>\n",
       "    </tr>\n",
       "    <tr>\n",
       "      <th>std</th>\n",
       "      <td>12.901403</td>\n",
       "      <td>32253.506944</td>\n",
       "    </tr>\n",
       "    <tr>\n",
       "      <th>min</th>\n",
       "      <td>2.000000</td>\n",
       "      <td>5000.000000</td>\n",
       "    </tr>\n",
       "    <tr>\n",
       "      <th>25%</th>\n",
       "      <td>8.000000</td>\n",
       "      <td>20000.000000</td>\n",
       "    </tr>\n",
       "    <tr>\n",
       "      <th>50%</th>\n",
       "      <td>14.000000</td>\n",
       "      <td>35000.000000</td>\n",
       "    </tr>\n",
       "    <tr>\n",
       "      <th>75%</th>\n",
       "      <td>26.000000</td>\n",
       "      <td>65000.000000</td>\n",
       "    </tr>\n",
       "    <tr>\n",
       "      <th>max</th>\n",
       "      <td>65.000000</td>\n",
       "      <td>162500.000000</td>\n",
       "    </tr>\n",
       "  </tbody>\n",
       "</table>\n",
       "</div>"
      ],
      "text/plain": [
       "              Unit          Sales\n",
       "count  7560.000000    7560.000000\n",
       "mean     18.005423   45013.558201\n",
       "std      12.901403   32253.506944\n",
       "min       2.000000    5000.000000\n",
       "25%       8.000000   20000.000000\n",
       "50%      14.000000   35000.000000\n",
       "75%      26.000000   65000.000000\n",
       "max      65.000000  162500.000000"
      ]
     },
     "execution_count": 70,
     "metadata": {},
     "output_type": "execute_result"
    }
   ],
   "source": [
    "df.describe()"
   ]
  },
  {
   "cell_type": "code",
   "execution_count": 72,
   "id": "6f048235-4615-46e4-bb08-2551a381bc77",
   "metadata": {},
   "outputs": [
    {
     "data": {
      "text/plain": [
       "Sales    35000.0\n",
       "Unit        14.0\n",
       "dtype: float64"
      ]
     },
     "execution_count": 72,
     "metadata": {},
     "output_type": "execute_result"
    }
   ],
   "source": [
    "df[['Sales', 'Unit']].median()"
   ]
  },
  {
   "cell_type": "code",
   "execution_count": 74,
   "id": "cbb19193-28d4-48c0-a913-b56af1e2df1b",
   "metadata": {},
   "outputs": [
    {
     "data": {
      "text/html": [
       "<div>\n",
       "<style scoped>\n",
       "    .dataframe tbody tr th:only-of-type {\n",
       "        vertical-align: middle;\n",
       "    }\n",
       "\n",
       "    .dataframe tbody tr th {\n",
       "        vertical-align: top;\n",
       "    }\n",
       "\n",
       "    .dataframe thead th {\n",
       "        text-align: right;\n",
       "    }\n",
       "</style>\n",
       "<table border=\"1\" class=\"dataframe\">\n",
       "  <thead>\n",
       "    <tr style=\"text-align: right;\">\n",
       "      <th></th>\n",
       "      <th>Sales</th>\n",
       "      <th>Unit</th>\n",
       "    </tr>\n",
       "  </thead>\n",
       "  <tbody>\n",
       "    <tr>\n",
       "      <th>0</th>\n",
       "      <td>22500</td>\n",
       "      <td>9</td>\n",
       "    </tr>\n",
       "  </tbody>\n",
       "</table>\n",
       "</div>"
      ],
      "text/plain": [
       "   Sales  Unit\n",
       "0  22500     9"
      ]
     },
     "execution_count": 74,
     "metadata": {},
     "output_type": "execute_result"
    }
   ],
   "source": [
    "df[['Sales', 'Unit']].mode()"
   ]
  },
  {
   "cell_type": "markdown",
   "id": "43e1b187-8774-495c-aa34-ccc8d6d2ce45",
   "metadata": {},
   "source": [
    "#### Identify the group with the highest sales and the group with the lowest sales based on the data provided. "
   ]
  },
  {
   "cell_type": "code",
   "execution_count": 77,
   "id": "5531fcaf-cd25-4e53-b264-c099c55e6cf1",
   "metadata": {},
   "outputs": [],
   "source": [
    "grouped_sales = df.groupby('Group')['Sales'].sum()"
   ]
  },
  {
   "cell_type": "code",
   "execution_count": 79,
   "id": "29bdb7fa-7473-4b7c-9adb-10ceac07c14c",
   "metadata": {},
   "outputs": [
    {
     "data": {
      "text/plain": [
       "Group\n",
       " Kids       85072500\n",
       " Men        85750000\n",
       " Seniors    84037500\n",
       " Women      85442500\n",
       "Name: Sales, dtype: int64"
      ]
     },
     "execution_count": 79,
     "metadata": {},
     "output_type": "execute_result"
    }
   ],
   "source": [
    "grouped_sales "
   ]
  },
  {
   "cell_type": "code",
   "execution_count": 81,
   "id": "dc7f8474-9025-4641-8666-2cb40fa1920f",
   "metadata": {},
   "outputs": [],
   "source": [
    "group_highest_sales = grouped_sales.idxmax()\n",
    "highest_sales = grouped_sales.max() \n",
    "group_lowest_sales = grouped_sales.idxmin()\n",
    "lowest_sales = grouped_sales.min()"
   ]
  },
  {
   "cell_type": "code",
   "execution_count": 83,
   "id": "bd7d09bb-4a05-4682-9df4-085a1688c4f2",
   "metadata": {},
   "outputs": [
    {
     "name": "stdout",
     "output_type": "stream",
     "text": [
      "Group with highest sales:  Men  (85750000)\n",
      "Group with lowest sales:  Seniors (84037500)\n"
     ]
    }
   ],
   "source": [
    "print(f\"Group with highest sales: {group_highest_sales}  ({highest_sales})\")\n",
    "print(f\"Group with lowest sales: {group_lowest_sales} ({lowest_sales})\")"
   ]
  },
  {
   "cell_type": "markdown",
   "id": "efe4d739-491a-4b55-92af-4b8a00241705",
   "metadata": {},
   "source": [
    "#### Generate weekly, monthly, and quarterly reports to document and present the results of the analysis conducted. "
   ]
  },
  {
   "cell_type": "markdown",
   "id": "981726ca-0bf9-438a-b788-3e8b7b1afb12",
   "metadata": {},
   "source": [
    "## Weekly Analysis"
   ]
  },
  {
   "cell_type": "code",
   "execution_count": 89,
   "id": "24986446-6eef-4f3f-aa64-865acde2c4c6",
   "metadata": {},
   "outputs": [
    {
     "data": {
      "text/html": [
       "<div>\n",
       "<style scoped>\n",
       "    .dataframe tbody tr th:only-of-type {\n",
       "        vertical-align: middle;\n",
       "    }\n",
       "\n",
       "    .dataframe tbody tr th {\n",
       "        vertical-align: top;\n",
       "    }\n",
       "\n",
       "    .dataframe thead th {\n",
       "        text-align: right;\n",
       "    }\n",
       "</style>\n",
       "<table border=\"1\" class=\"dataframe\">\n",
       "  <thead>\n",
       "    <tr style=\"text-align: right;\">\n",
       "      <th></th>\n",
       "      <th>Time</th>\n",
       "      <th>State</th>\n",
       "      <th>Group</th>\n",
       "      <th>Unit</th>\n",
       "      <th>Sales</th>\n",
       "    </tr>\n",
       "    <tr>\n",
       "      <th>Date</th>\n",
       "      <th></th>\n",
       "      <th></th>\n",
       "      <th></th>\n",
       "      <th></th>\n",
       "      <th></th>\n",
       "    </tr>\n",
       "  </thead>\n",
       "  <tbody>\n",
       "    <tr>\n",
       "      <th>2020-10-04</th>\n",
       "      <td>Morning Morning Morning Morning Afternoon Aft...</td>\n",
       "      <td>WA WA WA WA WA WA WA WA WA WA WA WA NT NT NT ...</td>\n",
       "      <td>Kids Men Women Seniors Kids Men Women Seniors...</td>\n",
       "      <td>6018</td>\n",
       "      <td>15045000</td>\n",
       "    </tr>\n",
       "    <tr>\n",
       "      <th>2020-10-11</th>\n",
       "      <td>Morning Morning Morning Morning Afternoon Aft...</td>\n",
       "      <td>WA WA WA WA WA WA WA WA WA WA WA WA NT NT NT ...</td>\n",
       "      <td>Kids Men Women Seniors Kids Men Women Seniors...</td>\n",
       "      <td>10801</td>\n",
       "      <td>27002500</td>\n",
       "    </tr>\n",
       "    <tr>\n",
       "      <th>2020-10-18</th>\n",
       "      <td>Morning Morning Morning Morning Afternoon Aft...</td>\n",
       "      <td>WA WA WA WA WA WA WA WA WA WA WA WA NT NT NT ...</td>\n",
       "      <td>Kids Men Women Seniors Kids Men Women Seniors...</td>\n",
       "      <td>10656</td>\n",
       "      <td>26640000</td>\n",
       "    </tr>\n",
       "    <tr>\n",
       "      <th>2020-10-25</th>\n",
       "      <td>Morning Morning Morning Morning Afternoon Aft...</td>\n",
       "      <td>WA WA WA WA WA WA WA WA WA WA WA WA NT NT NT ...</td>\n",
       "      <td>Kids Men Women Seniors Kids Men Women Seniors...</td>\n",
       "      <td>10726</td>\n",
       "      <td>26815000</td>\n",
       "    </tr>\n",
       "    <tr>\n",
       "      <th>2020-11-01</th>\n",
       "      <td>Morning Morning Morning Morning Afternoon Aft...</td>\n",
       "      <td>WA WA WA WA WA WA WA WA WA WA WA WA NT NT NT ...</td>\n",
       "      <td>Kids Men Women Seniors Kids Men Women Seniors...</td>\n",
       "      <td>8723</td>\n",
       "      <td>21807500</td>\n",
       "    </tr>\n",
       "    <tr>\n",
       "      <th>2020-11-08</th>\n",
       "      <td>Morning Morning Morning Morning Afternoon Aft...</td>\n",
       "      <td>WA WA WA WA WA WA WA WA WA WA WA WA NT NT NT ...</td>\n",
       "      <td>Kids Men Women Seniors Kids Men Women Seniors...</td>\n",
       "      <td>8346</td>\n",
       "      <td>20865000</td>\n",
       "    </tr>\n",
       "    <tr>\n",
       "      <th>2020-11-15</th>\n",
       "      <td>Morning Morning Morning Morning Afternoon Aft...</td>\n",
       "      <td>WA WA WA WA WA WA WA WA WA WA WA WA NT NT NT ...</td>\n",
       "      <td>Kids Men Women Seniors Kids Men Women Seniors...</td>\n",
       "      <td>8469</td>\n",
       "      <td>21172500</td>\n",
       "    </tr>\n",
       "    <tr>\n",
       "      <th>2020-11-22</th>\n",
       "      <td>Morning Morning Morning Morning Afternoon Aft...</td>\n",
       "      <td>WA WA WA WA WA WA WA WA WA WA WA WA NT NT NT ...</td>\n",
       "      <td>Kids Men Women Seniors Kids Men Women Seniors...</td>\n",
       "      <td>8445</td>\n",
       "      <td>21112500</td>\n",
       "    </tr>\n",
       "    <tr>\n",
       "      <th>2020-11-29</th>\n",
       "      <td>Morning Morning Morning Morning Afternoon Aft...</td>\n",
       "      <td>WA WA WA WA WA WA WA WA WA WA WA WA NT NT NT ...</td>\n",
       "      <td>Kids Men Women Seniors Kids Men Women Seniors...</td>\n",
       "      <td>8591</td>\n",
       "      <td>21477500</td>\n",
       "    </tr>\n",
       "    <tr>\n",
       "      <th>2020-12-06</th>\n",
       "      <td>Morning Morning Morning Morning Afternoon Aft...</td>\n",
       "      <td>WA WA WA WA WA WA WA WA WA WA WA WA NT NT NT ...</td>\n",
       "      <td>Kids Men Women Seniors Kids Men Women Seniors...</td>\n",
       "      <td>11849</td>\n",
       "      <td>29622500</td>\n",
       "    </tr>\n",
       "    <tr>\n",
       "      <th>2020-12-13</th>\n",
       "      <td>Morning Morning Morning Morning Afternoon Aft...</td>\n",
       "      <td>WA WA WA WA WA WA WA WA WA WA WA WA NT NT NT ...</td>\n",
       "      <td>Kids Men Women Seniors Kids Men Women Seniors...</td>\n",
       "      <td>12610</td>\n",
       "      <td>31525000</td>\n",
       "    </tr>\n",
       "    <tr>\n",
       "      <th>2020-12-20</th>\n",
       "      <td>Morning Morning Morning Morning Afternoon Aft...</td>\n",
       "      <td>WA WA WA WA WA WA WA WA WA WA WA WA NT NT NT ...</td>\n",
       "      <td>Kids Men Women Seniors Kids Men Women Seniors...</td>\n",
       "      <td>12662</td>\n",
       "      <td>31655000</td>\n",
       "    </tr>\n",
       "    <tr>\n",
       "      <th>2020-12-27</th>\n",
       "      <td>Morning Morning Morning Morning Afternoon Aft...</td>\n",
       "      <td>WA WA WA WA WA WA WA WA WA WA WA WA NT NT NT ...</td>\n",
       "      <td>Kids Men Women Seniors Kids Men Women Seniors...</td>\n",
       "      <td>12708</td>\n",
       "      <td>31770000</td>\n",
       "    </tr>\n",
       "    <tr>\n",
       "      <th>2021-01-03</th>\n",
       "      <td>Morning Morning Morning Morning Afternoon Aft...</td>\n",
       "      <td>WA WA WA WA WA WA WA WA WA WA WA WA NT NT NT ...</td>\n",
       "      <td>Kids Men Women Seniors Kids Men Women Seniors...</td>\n",
       "      <td>5517</td>\n",
       "      <td>13792500</td>\n",
       "    </tr>\n",
       "  </tbody>\n",
       "</table>\n",
       "</div>"
      ],
      "text/plain": [
       "                                                         Time  \\\n",
       "Date                                                            \n",
       "2020-10-04   Morning Morning Morning Morning Afternoon Aft...   \n",
       "2020-10-11   Morning Morning Morning Morning Afternoon Aft...   \n",
       "2020-10-18   Morning Morning Morning Morning Afternoon Aft...   \n",
       "2020-10-25   Morning Morning Morning Morning Afternoon Aft...   \n",
       "2020-11-01   Morning Morning Morning Morning Afternoon Aft...   \n",
       "2020-11-08   Morning Morning Morning Morning Afternoon Aft...   \n",
       "2020-11-15   Morning Morning Morning Morning Afternoon Aft...   \n",
       "2020-11-22   Morning Morning Morning Morning Afternoon Aft...   \n",
       "2020-11-29   Morning Morning Morning Morning Afternoon Aft...   \n",
       "2020-12-06   Morning Morning Morning Morning Afternoon Aft...   \n",
       "2020-12-13   Morning Morning Morning Morning Afternoon Aft...   \n",
       "2020-12-20   Morning Morning Morning Morning Afternoon Aft...   \n",
       "2020-12-27   Morning Morning Morning Morning Afternoon Aft...   \n",
       "2021-01-03   Morning Morning Morning Morning Afternoon Aft...   \n",
       "\n",
       "                                                        State  \\\n",
       "Date                                                            \n",
       "2020-10-04   WA WA WA WA WA WA WA WA WA WA WA WA NT NT NT ...   \n",
       "2020-10-11   WA WA WA WA WA WA WA WA WA WA WA WA NT NT NT ...   \n",
       "2020-10-18   WA WA WA WA WA WA WA WA WA WA WA WA NT NT NT ...   \n",
       "2020-10-25   WA WA WA WA WA WA WA WA WA WA WA WA NT NT NT ...   \n",
       "2020-11-01   WA WA WA WA WA WA WA WA WA WA WA WA NT NT NT ...   \n",
       "2020-11-08   WA WA WA WA WA WA WA WA WA WA WA WA NT NT NT ...   \n",
       "2020-11-15   WA WA WA WA WA WA WA WA WA WA WA WA NT NT NT ...   \n",
       "2020-11-22   WA WA WA WA WA WA WA WA WA WA WA WA NT NT NT ...   \n",
       "2020-11-29   WA WA WA WA WA WA WA WA WA WA WA WA NT NT NT ...   \n",
       "2020-12-06   WA WA WA WA WA WA WA WA WA WA WA WA NT NT NT ...   \n",
       "2020-12-13   WA WA WA WA WA WA WA WA WA WA WA WA NT NT NT ...   \n",
       "2020-12-20   WA WA WA WA WA WA WA WA WA WA WA WA NT NT NT ...   \n",
       "2020-12-27   WA WA WA WA WA WA WA WA WA WA WA WA NT NT NT ...   \n",
       "2021-01-03   WA WA WA WA WA WA WA WA WA WA WA WA NT NT NT ...   \n",
       "\n",
       "                                                        Group   Unit     Sales  \n",
       "Date                                                                            \n",
       "2020-10-04   Kids Men Women Seniors Kids Men Women Seniors...   6018  15045000  \n",
       "2020-10-11   Kids Men Women Seniors Kids Men Women Seniors...  10801  27002500  \n",
       "2020-10-18   Kids Men Women Seniors Kids Men Women Seniors...  10656  26640000  \n",
       "2020-10-25   Kids Men Women Seniors Kids Men Women Seniors...  10726  26815000  \n",
       "2020-11-01   Kids Men Women Seniors Kids Men Women Seniors...   8723  21807500  \n",
       "2020-11-08   Kids Men Women Seniors Kids Men Women Seniors...   8346  20865000  \n",
       "2020-11-15   Kids Men Women Seniors Kids Men Women Seniors...   8469  21172500  \n",
       "2020-11-22   Kids Men Women Seniors Kids Men Women Seniors...   8445  21112500  \n",
       "2020-11-29   Kids Men Women Seniors Kids Men Women Seniors...   8591  21477500  \n",
       "2020-12-06   Kids Men Women Seniors Kids Men Women Seniors...  11849  29622500  \n",
       "2020-12-13   Kids Men Women Seniors Kids Men Women Seniors...  12610  31525000  \n",
       "2020-12-20   Kids Men Women Seniors Kids Men Women Seniors...  12662  31655000  \n",
       "2020-12-27   Kids Men Women Seniors Kids Men Women Seniors...  12708  31770000  \n",
       "2021-01-03   Kids Men Women Seniors Kids Men Women Seniors...   5517  13792500  "
      ]
     },
     "execution_count": 89,
     "metadata": {},
     "output_type": "execute_result"
    }
   ],
   "source": [
    "df['Date'] = pd.to_datetime(df['Date'])\n",
    "# Resample changes the frequency of the time series data\n",
    "# 'W-SUN' means we are resampling to weekly data with the week ending on Sunday\n",
    "weekly_report = df.resample('W-SUN', on='Date').sum() \n",
    "weekly_report"
   ]
  },
  {
   "cell_type": "code",
   "execution_count": 95,
   "id": "1c4ccdf8-8c37-4b8a-8c78-e19f954d67ce",
   "metadata": {},
   "outputs": [
    {
     "data": {
      "image/png": "[encoded data removed]",
      "text/plain": [
       "<Figure size 1200x600 with 1 Axes>"
      ]
     },
     "metadata": {},
     "output_type": "display_data"
    }
   ],
   "source": [
    "weekly_sales = df.resample('W-SUN', on='Date').sum()\n",
    "plt.figure(figsize=(12, 6))\n",
    "plt.plot(weekly_sales.index, weekly_sales['Sales'], marker='o', linestyle='-')\n",
    "plt.show()"
   ]
  },
  {
   "cell_type": "code",
   "execution_count": 93,
   "id": "181e1836-46ba-41ba-ad97-630f7bb0d715",
   "metadata": {},
   "outputs": [
    {
     "name": "stdout",
     "output_type": "stream",
     "text": [
      "Week with highest sales: 2020-12-27 00:00:00, Sales: 31770000\n"
     ]
    }
   ],
   "source": [
    "week_highest_sales = weekly_sales['Sales'].idxmax()\n",
    "highest_week_sales = weekly_sales.loc[week_highest_sales, 'Sales']\n",
    "\n",
    "print(f\"Week with highest sales: {week_highest_sales}, Sales: {highest_week_sales}\")"
   ]
  },
  {
   "cell_type": "markdown",
   "id": "dce461a0-4240-41ba-927f-1106568727e8",
   "metadata": {},
   "source": [
    "## Monthly Analysis"
   ]
  },
  {
   "cell_type": "code",
   "execution_count": 99,
   "id": "57cbdd3e-810e-43fe-ac93-ae709a30cbd5",
   "metadata": {},
   "outputs": [
    {
     "data": {
      "text/html": [
       "<div>\n",
       "<style scoped>\n",
       "    .dataframe tbody tr th:only-of-type {\n",
       "        vertical-align: middle;\n",
       "    }\n",
       "\n",
       "    .dataframe tbody tr th {\n",
       "        vertical-align: top;\n",
       "    }\n",
       "\n",
       "    .dataframe thead th {\n",
       "        text-align: right;\n",
       "    }\n",
       "</style>\n",
       "<table border=\"1\" class=\"dataframe\">\n",
       "  <thead>\n",
       "    <tr style=\"text-align: right;\">\n",
       "      <th></th>\n",
       "      <th>Time</th>\n",
       "      <th>State</th>\n",
       "      <th>Group</th>\n",
       "      <th>Unit</th>\n",
       "      <th>Sales</th>\n",
       "    </tr>\n",
       "    <tr>\n",
       "      <th>Date</th>\n",
       "      <th></th>\n",
       "      <th></th>\n",
       "      <th></th>\n",
       "      <th></th>\n",
       "      <th></th>\n",
       "    </tr>\n",
       "  </thead>\n",
       "  <tbody>\n",
       "    <tr>\n",
       "      <th>2020-10-31</th>\n",
       "      <td>Morning Morning Morning Morning Afternoon Aft...</td>\n",
       "      <td>WA WA WA WA WA WA WA WA WA WA WA WA NT NT NT ...</td>\n",
       "      <td>Kids Men Women Seniors Kids Men Women Seniors...</td>\n",
       "      <td>45716</td>\n",
       "      <td>114290000</td>\n",
       "    </tr>\n",
       "    <tr>\n",
       "      <th>2020-11-30</th>\n",
       "      <td>Morning Morning Morning Morning Afternoon Aft...</td>\n",
       "      <td>WA WA WA WA WA WA WA WA WA WA WA WA NT NT NT ...</td>\n",
       "      <td>Kids Men Women Seniors Kids Men Women Seniors...</td>\n",
       "      <td>36273</td>\n",
       "      <td>90682500</td>\n",
       "    </tr>\n",
       "    <tr>\n",
       "      <th>2020-12-31</th>\n",
       "      <td>Morning Morning Morning Morning Afternoon Aft...</td>\n",
       "      <td>WA WA WA WA WA WA WA WA WA WA WA WA NT NT NT ...</td>\n",
       "      <td>Kids Men Women Seniors Kids Men Women Seniors...</td>\n",
       "      <td>54132</td>\n",
       "      <td>135330000</td>\n",
       "    </tr>\n",
       "  </tbody>\n",
       "</table>\n",
       "</div>"
      ],
      "text/plain": [
       "                                                         Time  \\\n",
       "Date                                                            \n",
       "2020-10-31   Morning Morning Morning Morning Afternoon Aft...   \n",
       "2020-11-30   Morning Morning Morning Morning Afternoon Aft...   \n",
       "2020-12-31   Morning Morning Morning Morning Afternoon Aft...   \n",
       "\n",
       "                                                        State  \\\n",
       "Date                                                            \n",
       "2020-10-31   WA WA WA WA WA WA WA WA WA WA WA WA NT NT NT ...   \n",
       "2020-11-30   WA WA WA WA WA WA WA WA WA WA WA WA NT NT NT ...   \n",
       "2020-12-31   WA WA WA WA WA WA WA WA WA WA WA WA NT NT NT ...   \n",
       "\n",
       "                                                        Group   Unit  \\\n",
       "Date                                                                   \n",
       "2020-10-31   Kids Men Women Seniors Kids Men Women Seniors...  45716   \n",
       "2020-11-30   Kids Men Women Seniors Kids Men Women Seniors...  36273   \n",
       "2020-12-31   Kids Men Women Seniors Kids Men Women Seniors...  54132   \n",
       "\n",
       "                Sales  \n",
       "Date                   \n",
       "2020-10-31  114290000  \n",
       "2020-11-30   90682500  \n",
       "2020-12-31  135330000  "
      ]
     },
     "execution_count": 99,
     "metadata": {},
     "output_type": "execute_result"
    }
   ],
   "source": [
    "monthly_report = df.resample('M', on='Date').sum()\n",
    "monthly_report"
   ]
  },
  {
   "cell_type": "code",
   "execution_count": 101,
   "id": "990519a2-da21-466b-8991-f26fc25f0dab",
   "metadata": {},
   "outputs": [
    {
     "data": {
      "image/png": "[encoded data removed]",
      "text/plain": [
       "<Figure size 1200x600 with 1 Axes>"
      ]
     },
     "metadata": {},
     "output_type": "display_data"
    }
   ],
   "source": [
    "monthly_sales = df.resample('M', on='Date').sum()\n",
    "plt.figure(figsize=(12, 6))\n",
    "plt.plot(monthly_sales.index, monthly_sales['Sales'], marker='o', linestyle='-')\n",
    "plt.show()"
   ]
  },
  {
   "cell_type": "code",
   "execution_count": 103,
   "id": "6755af34-24b7-45c2-ad99-a38ec5d5b40d",
   "metadata": {},
   "outputs": [
    {
     "name": "stdout",
     "output_type": "stream",
     "text": [
      "Month with highest sales: December 2020, Sales: 135330000\n"
     ]
    }
   ],
   "source": [
    "month_highest_sales = monthly_sales['Sales'].idxmax()\n",
    "highest_month_sales = monthly_sales.loc[month_highest_sales, 'Sales']\n",
    "print(f\"Month with highest sales: {month_highest_sales.strftime('%B %Y')}, Sales: {highest_month_sales}\")\n",
    "#'%B': Full month name (e.g., January, February, March).\n",
    "#'%Y': Four-digit year (e.g., 2020, 2021)."
   ]
  },
  {
   "cell_type": "markdown",
   "id": "755366ae-b466-4c57-b0f8-fe94ddd43b5b",
   "metadata": {},
   "source": [
    "## Quarterly Analysis"
   ]
  },
  {
   "cell_type": "code",
   "execution_count": 106,
   "id": "b79b360f-c87d-46b2-a8b4-2de36ec5ca33",
   "metadata": {},
   "outputs": [
    {
     "data": {
      "text/html": [
       "<div>\n",
       "<style scoped>\n",
       "    .dataframe tbody tr th:only-of-type {\n",
       "        vertical-align: middle;\n",
       "    }\n",
       "\n",
       "    .dataframe tbody tr th {\n",
       "        vertical-align: top;\n",
       "    }\n",
       "\n",
       "    .dataframe thead th {\n",
       "        text-align: right;\n",
       "    }\n",
       "</style>\n",
       "<table border=\"1\" class=\"dataframe\">\n",
       "  <thead>\n",
       "    <tr style=\"text-align: right;\">\n",
       "      <th></th>\n",
       "      <th>Time</th>\n",
       "      <th>State</th>\n",
       "      <th>Group</th>\n",
       "      <th>Unit</th>\n",
       "      <th>Sales</th>\n",
       "    </tr>\n",
       "    <tr>\n",
       "      <th>Date</th>\n",
       "      <th></th>\n",
       "      <th></th>\n",
       "      <th></th>\n",
       "      <th></th>\n",
       "      <th></th>\n",
       "    </tr>\n",
       "  </thead>\n",
       "  <tbody>\n",
       "    <tr>\n",
       "      <th>2020-12-31</th>\n",
       "      <td>Morning Morning Morning Morning Afternoon Aft...</td>\n",
       "      <td>WA WA WA WA WA WA WA WA WA WA WA WA NT NT NT ...</td>\n",
       "      <td>Kids Men Women Seniors Kids Men Women Seniors...</td>\n",
       "      <td>136121</td>\n",
       "      <td>340302500</td>\n",
       "    </tr>\n",
       "  </tbody>\n",
       "</table>\n",
       "</div>"
      ],
      "text/plain": [
       "                                                         Time  \\\n",
       "Date                                                            \n",
       "2020-12-31   Morning Morning Morning Morning Afternoon Aft...   \n",
       "\n",
       "                                                        State  \\\n",
       "Date                                                            \n",
       "2020-12-31   WA WA WA WA WA WA WA WA WA WA WA WA NT NT NT ...   \n",
       "\n",
       "                                                        Group    Unit  \\\n",
       "Date                                                                    \n",
       "2020-12-31   Kids Men Women Seniors Kids Men Women Seniors...  136121   \n",
       "\n",
       "                Sales  \n",
       "Date                   \n",
       "2020-12-31  340302500  "
      ]
     },
     "execution_count": 106,
     "metadata": {},
     "output_type": "execute_result"
    }
   ],
   "source": [
    "quarterly_report = df.resample('Q', on='Date').sum()\n",
    "quarterly_report"
   ]
  },
  {
   "cell_type": "code",
   "execution_count": 108,
   "id": "6c053f7e-afde-4735-8f7a-5ea91625a6c7",
   "metadata": {},
   "outputs": [
    {
     "data": {
      "image/png": "[encoded data removed]",
      "text/plain": [
       "<Figure size 1200x600 with 1 Axes>"
      ]
     },
     "metadata": {},
     "output_type": "display_data"
    }
   ],
   "source": [
    "plt.figure(figsize=(12, 6))\n",
    "plt.plot(quarterly_report.index, quarterly_report['Sales'], marker='o', linestyle='-')\n",
    "plt.show()"
   ]
  },
  {
   "cell_type": "markdown",
   "id": "bb5698ec-4d73-4e8f-9a2a-9d8cfb690f8f",
   "metadata": {},
   "source": [
    "# 3. Data visualization"
   ]
  },
  {
   "cell_type": "markdown",
   "id": "ad7b7a9f-829e-47c9-9f50-75c61509aa76",
   "metadata": {},
   "source": [
    "#### State-wise sales analysis for different demographic groups (kids, women, men, and seniors)."
   ]
  },
  {
   "cell_type": "code",
   "execution_count": 114,
   "id": "f8afcc91-6a6b-4d93-982a-20f78b9bdc3c",
   "metadata": {},
   "outputs": [
    {
     "data": {
      "image/png": "[encoded data removed]",
      "text/plain": [
       "<Figure size 640x480 with 1 Axes>"
      ]
     },
     "metadata": {},
     "output_type": "display_data"
    }
   ],
   "source": [
    "sns.barplot(data=df, x='State', y='Sales', hue='Group')\n",
    "plt.title('State-wise Sales Analysis for Different Groups')\n",
    "plt.show()"
   ]
  },
  {
   "cell_type": "markdown",
   "id": "53777641-239f-4591-b828-628789184fe3",
   "metadata": {},
   "source": [
    "#### Time-of-the-day analysis: Identify peak and off-peak sales periods"
   ]
  },
  {
   "cell_type": "markdown",
   "id": "fe456331-a3e3-4bfc-95c8-8b6ced0ac562",
   "metadata": {},
   "source": [
    "### Peak Days"
   ]
  },
  {
   "cell_type": "code",
   "execution_count": 120,
   "id": "b0831cdd-183d-498f-b5ae-938b67d8df34",
   "metadata": {},
   "outputs": [
    {
     "data": {
      "text/html": [
       "<div>\n",
       "<style scoped>\n",
       "    .dataframe tbody tr th:only-of-type {\n",
       "        vertical-align: middle;\n",
       "    }\n",
       "\n",
       "    .dataframe tbody tr th {\n",
       "        vertical-align: top;\n",
       "    }\n",
       "\n",
       "    .dataframe thead th {\n",
       "        text-align: right;\n",
       "    }\n",
       "</style>\n",
       "<table border=\"1\" class=\"dataframe\">\n",
       "  <thead>\n",
       "    <tr style=\"text-align: right;\">\n",
       "      <th></th>\n",
       "      <th>Date</th>\n",
       "      <th>Sales</th>\n",
       "    </tr>\n",
       "  </thead>\n",
       "  <tbody>\n",
       "    <tr>\n",
       "      <th>73</th>\n",
       "      <td>2020-12-14</td>\n",
       "      <td>4765000</td>\n",
       "    </tr>\n",
       "    <tr>\n",
       "      <th>69</th>\n",
       "      <td>2020-12-10</td>\n",
       "      <td>4717500</td>\n",
       "    </tr>\n",
       "    <tr>\n",
       "      <th>85</th>\n",
       "      <td>2020-12-26</td>\n",
       "      <td>4715000</td>\n",
       "    </tr>\n",
       "    <tr>\n",
       "      <th>74</th>\n",
       "      <td>2020-12-15</td>\n",
       "      <td>4657500</td>\n",
       "    </tr>\n",
       "    <tr>\n",
       "      <th>68</th>\n",
       "      <td>2020-12-09</td>\n",
       "      <td>4655000</td>\n",
       "    </tr>\n",
       "    <tr>\n",
       "      <th>86</th>\n",
       "      <td>2020-12-27</td>\n",
       "      <td>4637500</td>\n",
       "    </tr>\n",
       "    <tr>\n",
       "      <th>81</th>\n",
       "      <td>2020-12-22</td>\n",
       "      <td>4635000</td>\n",
       "    </tr>\n",
       "    <tr>\n",
       "      <th>88</th>\n",
       "      <td>2020-12-29</td>\n",
       "      <td>4607500</td>\n",
       "    </tr>\n",
       "    <tr>\n",
       "      <th>72</th>\n",
       "      <td>2020-12-13</td>\n",
       "      <td>4605000</td>\n",
       "    </tr>\n",
       "    <tr>\n",
       "      <th>87</th>\n",
       "      <td>2020-12-28</td>\n",
       "      <td>4595000</td>\n",
       "    </tr>\n",
       "  </tbody>\n",
       "</table>\n",
       "</div>"
      ],
      "text/plain": [
       "         Date    Sales\n",
       "73 2020-12-14  4765000\n",
       "69 2020-12-10  4717500\n",
       "85 2020-12-26  4715000\n",
       "74 2020-12-15  4657500\n",
       "68 2020-12-09  4655000\n",
       "86 2020-12-27  4637500\n",
       "81 2020-12-22  4635000\n",
       "88 2020-12-29  4607500\n",
       "72 2020-12-13  4605000\n",
       "87 2020-12-28  4595000"
      ]
     },
     "execution_count": 120,
     "metadata": {},
     "output_type": "execute_result"
    }
   ],
   "source": [
    "daily_sales = df.groupby('Date')['Sales'].sum().reset_index()\n",
    "top_10_days = daily_sales.nlargest(10, 'Sales')\n",
    "top_10_days"
   ]
  },
  {
   "cell_type": "markdown",
   "id": "7f42e544-5420-4551-8f3e-11c32e4ab2ad",
   "metadata": {},
   "source": [
    "### Peak Off days"
   ]
  },
  {
   "cell_type": "code",
   "execution_count": 123,
   "id": "d3bf60a3-f748-4df1-b64a-9fa3c730a3d8",
   "metadata": {},
   "outputs": [
    {
     "data": {
      "text/html": [
       "<div>\n",
       "<style scoped>\n",
       "    .dataframe tbody tr th:only-of-type {\n",
       "        vertical-align: middle;\n",
       "    }\n",
       "\n",
       "    .dataframe tbody tr th {\n",
       "        vertical-align: top;\n",
       "    }\n",
       "\n",
       "    .dataframe thead th {\n",
       "        text-align: right;\n",
       "    }\n",
       "</style>\n",
       "<table border=\"1\" class=\"dataframe\">\n",
       "  <thead>\n",
       "    <tr style=\"text-align: right;\">\n",
       "      <th></th>\n",
       "      <th>Date</th>\n",
       "      <th>Sales</th>\n",
       "    </tr>\n",
       "  </thead>\n",
       "  <tbody>\n",
       "    <tr>\n",
       "      <th>31</th>\n",
       "      <td>2020-11-02</td>\n",
       "      <td>2725000</td>\n",
       "    </tr>\n",
       "    <tr>\n",
       "      <th>35</th>\n",
       "      <td>2020-11-06</td>\n",
       "      <td>2835000</td>\n",
       "    </tr>\n",
       "    <tr>\n",
       "      <th>51</th>\n",
       "      <td>2020-11-22</td>\n",
       "      <td>2867500</td>\n",
       "    </tr>\n",
       "    <tr>\n",
       "      <th>40</th>\n",
       "      <td>2020-11-11</td>\n",
       "      <td>2872500</td>\n",
       "    </tr>\n",
       "    <tr>\n",
       "      <th>32</th>\n",
       "      <td>2020-11-03</td>\n",
       "      <td>2877500</td>\n",
       "    </tr>\n",
       "    <tr>\n",
       "      <th>47</th>\n",
       "      <td>2020-11-18</td>\n",
       "      <td>2877500</td>\n",
       "    </tr>\n",
       "    <tr>\n",
       "      <th>48</th>\n",
       "      <td>2020-11-19</td>\n",
       "      <td>2905000</td>\n",
       "    </tr>\n",
       "    <tr>\n",
       "      <th>38</th>\n",
       "      <td>2020-11-09</td>\n",
       "      <td>2925000</td>\n",
       "    </tr>\n",
       "    <tr>\n",
       "      <th>56</th>\n",
       "      <td>2020-11-27</td>\n",
       "      <td>2982500</td>\n",
       "    </tr>\n",
       "    <tr>\n",
       "      <th>39</th>\n",
       "      <td>2020-11-10</td>\n",
       "      <td>2992500</td>\n",
       "    </tr>\n",
       "  </tbody>\n",
       "</table>\n",
       "</div>"
      ],
      "text/plain": [
       "         Date    Sales\n",
       "31 2020-11-02  2725000\n",
       "35 2020-11-06  2835000\n",
       "51 2020-11-22  2867500\n",
       "40 2020-11-11  2872500\n",
       "32 2020-11-03  2877500\n",
       "47 2020-11-18  2877500\n",
       "48 2020-11-19  2905000\n",
       "38 2020-11-09  2925000\n",
       "56 2020-11-27  2982500\n",
       "39 2020-11-10  2992500"
      ]
     },
     "execution_count": 123,
     "metadata": {},
     "output_type": "execute_result"
    }
   ],
   "source": [
    "bottom_10_days = daily_sales.nsmallest(10, 'Sales')\n",
    "bottom_10_days"
   ]
  },
  {
   "cell_type": "code",
   "execution_count": 125,
   "id": "e0606f68-869b-43a7-bf2f-7aa8a8801248",
   "metadata": {},
   "outputs": [
    {
     "data": {
      "image/png": "[encoded data removed]",
      "text/plain": [
       "<Figure size 640x480 with 1 Axes>"
      ]
     },
     "metadata": {},
     "output_type": "display_data"
    }
   ],
   "source": [
    "plt.bar(daily_sales['Date'], daily_sales['Sales'], color='red')\n",
    "plt.xticks(rotation=45)\n",
    "plt.title('Daily Sales')\n",
    "plt.show()"
   ]
  },
  {
   "cell_type": "markdown",
   "id": "27177b14-4ad8-460e-a1ac-d182ab9953e2",
   "metadata": {},
   "source": [
    "#### We observe that all top 10 peak sales days are in December, while all bottom 10 sales days are in November. There is a notable difference in total sales between these two months, suggesting an opportunity to enhance sales growth in November."
   ]
  },
  {
   "cell_type": "markdown",
   "id": "d6377d5f-c8e6-448f-94ba-60534949ec57",
   "metadata": {},
   "source": [
    "##### (All charts that is daily, weekly, monthly, and quarterly have been included)"
   ]
  },
  {
   "cell_type": "markdown",
   "id": "d8c86e70-5245-46c6-ba55-3051cc677ee7",
   "metadata": {},
   "source": [
    "##### (I opted to use matplotlib.pyplot (plt) over seaborn (sns) for basic bar chart tasks, based on personal preference.)"
   ]
  },
  {
   "cell_type": "markdown",
   "id": "cd48fa84-2623-4173-815f-9a84249198e5",
   "metadata": {},
   "source": [
    "## 4. Report generation  "
   ]
  },
  {
   "cell_type": "markdown",
   "id": "cb916174-5917-446d-9611-8e492d327c7d",
   "metadata": {},
   "source": [
    "#### \"I've completed a comprehensive report above using the provided data, performing all required tasks to the best of my abilities\""
   ]
  },
  {
   "cell_type": "code",
   "execution_count": null,
   "id": "b04fdbce-d585-41e2-8046-448a09695f78",
   "metadata": {},
   "outputs": [],
   "source": []
  }
 ],
 "metadata": {
  "kernelspec": {
   "display_name": "Python 3 (ipykernel)",
   "language": "python",
   "name": "python3"
  },
  "language_info": {
   "codemirror_mode": {
    "name": "ipython",
    "version": 3
   },
   "file_extension": ".py",
   "mimetype": "text/x-python",
   "name": "python",
   "nbconvert_exporter": "python",
   "pygments_lexer": "ipython3",
   "version": "3.11.7"
  }
 },
 "nbformat": 4,
 "nbformat_minor": 5
}
